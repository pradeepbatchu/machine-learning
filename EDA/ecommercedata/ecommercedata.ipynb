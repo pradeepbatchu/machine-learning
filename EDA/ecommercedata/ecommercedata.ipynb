{
 "cells": [
  {
   "cell_type": "code",
   "execution_count": 1,
   "metadata": {},
   "outputs": [
    {
     "name": "stderr",
     "output_type": "stream",
     "text": [
      "c:\\users\\prade\\anaconda3\\envs\\tensorflow_env\\lib\\site-packages\\numpy\\core\\__init__.py:29: UserWarning: loaded more than 1 DLL from .libs:\n",
      "c:\\users\\prade\\anaconda3\\envs\\tensorflow_env\\lib\\site-packages\\numpy\\.libs\\libopenblas.IPBC74C7KURV7CB2PKT5Z5FNR3SIBV4J.gfortran-win_amd64.dll\n",
      "c:\\users\\prade\\anaconda3\\envs\\tensorflow_env\\lib\\site-packages\\numpy\\.libs\\libopenblas.TXA6YQSD3GCQQC22GEQ54J2UDCXDXHWN.gfortran-win_amd64.dll\n",
      "  stacklevel=1)\n"
     ]
    }
   ],
   "source": [
    "#importing lib\n",
    "import numpy as np\n",
    "from matplotlib import pyplot as plt\n",
    "import PyQt5\n",
    "import seaborn as sns\n",
    "import pandas as pd\n",
    "import pandas_profiling\n",
    "import os"
   ]
  },
